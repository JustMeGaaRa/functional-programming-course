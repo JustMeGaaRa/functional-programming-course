{
 "cells": [
  {
   "cell_type": "markdown",
   "metadata": {},
   "source": [
    "# The Scarriness of Category Theory"
   ]
  },
  {
   "cell_type": "markdown",
   "metadata": {},
   "source": [
    "The world of programming is a complex thing nowadays. There is so many libraries, so many frameworks, so many practices and implementations. This requires a way to deal with all this complexity that's piled up in each and every ptoject over the years. Now, we need to support those project for at least couple of years, even tens of years afterwards, right? And we want not to just deal with legacy code, but to actually have it up to date, have it clean and easy to understand.\n",
    "\n",
    "The OOP-way of dealing with complexity is to encapsulate the details, extend with polymorhism, and reuse with inheritance. Lately, sbstraction was introduced to the family. Each of those approaches is not perfect and has it's own flaws. Tough encapsulation hides the unnecessary  implementation details, they still require a hard reference to the dependencies. Polymorphism is usually tighed up with inheritance and gets very complex when trying to build inherit more then one type (the diamond problem) and is not very explicit. \n",
    "\n",
    "Composition over inheritance (or composite reuse principle) in object-oriented programming (OOP) is the principle that classes should achieve polymorphic behavior and code reuse by their composition rather than inheritance from a base or parent class. This is an often-stated principle of OOP, such as in the influential book Design Patterns. Abstraction actually helps, but now we have tons and tons of interfaces (or any other type of sbsract definitions). For further reading I suggest a blog post on Medium called [\"Object-Oriented Programming — The Trillion Dollar Disaster\"](https://medium.com/better-programming/object-oriented-programming-the-trillion-dollar-disaster-92a4b666c7c7) by Ilya Suzdalnitski.\n",
    "\n",
    "In functional programming we deal with complexity by combining little pieces toghether. Those pieces are actually functions. And we want them to be simple, decoupled and easy to undnerstand. This way we have a set of building blocks which can be used and combined in different ways. Like when we're building a house with bricks - small building blocks that help us to create all those different and unique houses that suit our needs. Functional languages usually support somme features that make you write less boilerplate code. But this does not mean you should not use OOP or othe languages. You can easily write functional code using most of the modern languages."
   ]
  },
  {
   "cell_type": "markdown",
   "metadata": {},
   "source": [
    "## Category"
   ]
  },
  {
   "cell_type": "markdown",
   "metadata": {},
   "source": [
    "In chapter [Functions](../tp-functions/README.md) it was mentioned that we have two things - data and functions to process the data. If we were to take all the types of data, define transformations over them and represent it visually, we'd result in sommething like this:"
   ]
  },
  {
   "cell_type": "markdown",
   "metadata": {},
   "source": [
    "![Functor](../../resources/ct-category-functor.png)"
   ]
  },
  {
   "cell_type": "markdown",
   "metadata": {},
   "source": [
    "A set of types `A`, `B` and `C` and relations (arrows) between them is actually called [category](https://en.wikipedia.org/wiki/Category_(mathematics)) in mathematics."
   ]
  },
  {
   "cell_type": "markdown",
   "metadata": {},
   "source": [
    "Functions `f` and `g` define a transformattion from type `A` to type `B` and from `B` to `C` respectivly. A transformation from `A` to `C` can be defined as a combination of funtions - `f o g`. We can combine those functions because output type of function `f` matches the input type of function `g`.\n",
    "\n",
    "Here functions `f` and `g` are called `morphisms`. In other words, `morphism` is a function that defines a map from object `A` to object `B`."
   ]
  },
  {
   "cell_type": "markdown",
   "metadata": {},
   "source": [
    "Now, how do we combine functions in programming? Let's look at the example:"
   ]
  },
  {
   "cell_type": "code",
   "execution_count": 9,
   "metadata": {},
   "outputs": [],
   "source": [
    "let fromStringToFloat (value: string) = float value\n",
    "let fromtFloatToInt (value: float) = int value\n",
    "let fromoIntToBool (value: int) = value % 2 = 0"
   ]
  },
  {
   "cell_type": "markdown",
   "metadata": {},
   "source": [
    "We declared two functions - one that converts from string to an actual number and the other rounds the floating point number to an integer. Now in order to combine tose two we can do the follwing:"
   ]
  },
  {
   "cell_type": "code",
   "execution_count": 10,
   "metadata": {},
   "outputs": [
    {
     "name": "stdout",
     "output_type": "stream",
     "text": [
      "Is Even: true\n"
     ]
    },
    {
     "data": {
      "text/html": [
       "<null>"
      ]
     },
     "execution_count": 10,
     "metadata": {},
     "output_type": "execute_result"
    }
   ],
   "source": [
    "let fromoStringToBool (value: string) = fromoIntToBool(fromtFloatToInt(fromStringToFloat(value)))\n",
    "let isEven = fromoStringToBool \"4.07\"\n",
    "printfn \"Is Even: %A\" isEven"
   ]
  },
  {
   "cell_type": "markdown",
   "metadata": {},
   "source": [
    "A category has to support two properties - compose arrows (functions) associatively and the have an identity arrow (function). Let's have a deeper look."
   ]
  },
  {
   "cell_type": "markdown",
   "metadata": {},
   "source": [
    "### Identity"
   ]
  },
  {
   "cell_type": "markdown",
   "metadata": {},
   "source": [
    "Identity function is a function for any given object of a certain type will return the same object. Here is a mathematical definition:\n",
    "```\n",
    "id: a -> a\n",
    "```\n",
    "\n",
    "Here is some code to prove this:"
   ]
  },
  {
   "cell_type": "code",
   "execution_count": 84,
   "metadata": {},
   "outputs": [
    {
     "name": "stdout",
     "output_type": "stream",
     "text": [
      "Identity of 4.07 is 4.07\n",
      "Identity of true is true\n",
      "Identity of \"Hello World!\" is \"Hello World!\"\n"
     ]
    },
    {
     "data": {
      "text/html": [
       "<null>"
      ]
     },
     "execution_count": 84,
     "metadata": {},
     "output_type": "execute_result"
    }
   ],
   "source": [
    "let id: 'a -> 'a = fun (a: 'a) -> a\n",
    "\n",
    "printfn \"Identity of 4.07 is %A\" (id 4.07)\n",
    "printfn \"Identity of true is %A\" (id true)\n",
    "printfn \"Identity of \\\"Hello World!\\\" is %A\" (id \"Hello World!\")"
   ]
  },
  {
   "cell_type": "markdown",
   "metadata": {},
   "source": [
    "### Composition"
   ]
  },
  {
   "cell_type": "code",
   "execution_count": null,
   "metadata": {},
   "outputs": [],
   "source": []
  },
  {
   "cell_type": "markdown",
   "metadata": {},
   "source": [
    "### Associativity"
   ]
  },
  {
   "cell_type": "markdown",
   "metadata": {},
   "source": [
    "Associativity is a property of some binary operations. Within an expression containing two or more occurrences in a row of the same associative operator, the order in which the operations are performed does not matter as long as the sequence of the operands is not changed.\n",
    "\n",
    "```\n",
    "2 + (3 + 4) = (2 + 3) + 4\n",
    "```\n",
    "\n",
    "Having the following functions:\n",
    "\n",
    "```\n",
    "f: a -> b\n",
    "g: b -> c\n",
    "h: c -> d\n",
    "```\n",
    "\n",
    "The following rules should apply:\n",
    "\n",
    "```\n",
    "f o (g o h) = (f o g) o h\n",
    "```\n",
    "\n",
    "Here is some proof in form of actual code."
   ]
  },
  {
   "cell_type": "code",
   "execution_count": 22,
   "metadata": {
    "scrolled": true
   },
   "outputs": [
    {
     "name": "stdout",
     "output_type": "stream",
     "text": [
      "Left: true\n",
      "Right: true\n"
     ]
    },
    {
     "data": {
      "text/html": [
       "<null>"
      ]
     },
     "execution_count": 22,
     "metadata": {},
     "output_type": "execute_result"
    }
   ],
   "source": [
    "let f: string -> float = fun (a: string) -> float a\n",
    "let g: float -> int = fun (b: float) -> int b\n",
    "let h: int -> bool = fun (c: int) -> c % 2 = 0\n",
    "\n",
    "let (>>=) f g = fun a -> g(f(a))\n",
    "\n",
    "let left = f >>= (g >>= h)\n",
    "let right = (f >>= g) >>= h\n",
    "\n",
    "printfn \"Left: %b\" (left \"4.07\")\n",
    "printfn \"Right: %b\" (right \"4.07\")"
   ]
  },
  {
   "cell_type": "markdown",
   "metadata": {},
   "source": [
    "Here are the visual representation of `associativity`:\n",
    "\n",
    "![Associativity](../../resources/ct-associativity-of-binary-operations.png)"
   ]
  },
  {
   "cell_type": "markdown",
   "metadata": {},
   "source": [
    "In previous example, nesting the function calls is not a very good way to combine functions. With a growing number of functions to combine, we will get what is known as \"pyramid of doom\". Combining function like this is one way to do it, but it requires to explicitly define the input parameter types. But good news - we can refactor this code into a more beautiful one!In previous example, nesting the function calls is not a very good way to combine functions. With a growing number of functions to combine, we will get what is known as \"pyramid of doom\". Combining function like this is one way to do it, but it requires to explicitly define the input parameter types. But good news - we can refactor this code into a more beautiful one!"
   ]
  },
  {
   "cell_type": "code",
   "execution_count": 24,
   "metadata": {},
   "outputs": [
    {
     "name": "stdout",
     "output_type": "stream",
     "text": [
      "Is Even: true\n"
     ]
    },
    {
     "data": {
      "text/html": [
       "<null>"
      ]
     },
     "execution_count": 24,
     "metadata": {},
     "output_type": "execute_result"
    }
   ],
   "source": [
    "let fromStringToFloat value = float value\n",
    "let fromtFloatToInt value = int value\n",
    "let fromoIntToBool value = value % 2 = 0\n",
    "let fromoStringToBool = fromStringToFloat >> fromtFloatToInt >> fromoIntToBool\n",
    "let isEven = fromoStringToBool \"4.07\"\n",
    "printfn \"Is Even: %b\" isEven"
   ]
  },
  {
   "cell_type": "markdown",
   "metadata": {},
   "source": [
    "Notice, that we used the `>>` operator. This is a built-in function composition operator. It allows to create a new function by composing two or more functions. In order to do this, each function that takes and input from previous one, has to have exactly one input parameter and the retuurn type has to match the input type of the following function."
   ]
  },
  {
   "cell_type": "markdown",
   "metadata": {},
   "source": [
    "## Functor"
   ]
  },
  {
   "cell_type": "markdown",
   "metadata": {},
   "source": [
    "Let's define another category called `Maybe`."
   ]
  },
  {
   "cell_type": "code",
   "execution_count": 79,
   "metadata": {},
   "outputs": [
    {
     "name": "stdout",
     "output_type": "stream",
     "text": [
      "None\n",
      "Some 5\n",
      "Some 4.07\n",
      "Some \"Hello World!\"\n"
     ]
    },
    {
     "data": {
      "text/html": [
       "<null>"
      ]
     },
     "execution_count": 79,
     "metadata": {},
     "output_type": "execute_result"
    }
   ],
   "source": [
    "type Maybe<'a> =\n",
    "    | Some of 'a\n",
    "    | None\n",
    "\n",
    "printfn \"%A\" (None)\n",
    "printfn \"%A\" (Some 5)\n",
    "printfn \"%A\" (Some 4.07)\n",
    "printfn \"%A\" (Some \"Hello World!\")"
   ]
  },
  {
   "cell_type": "markdown",
   "metadata": {},
   "source": [
    "We have defined a category. Now we need to satify the `associativity` rule and `identity` rule."
   ]
  },
  {
   "cell_type": "markdown",
   "metadata": {},
   "source": [
    "### Identity "
   ]
  },
  {
   "cell_type": "code",
   "execution_count": 83,
   "metadata": {},
   "outputs": [
    {
     "name": "stdout",
     "output_type": "stream",
     "text": [
      "Identity of 4.07 is Some 4.07\n",
      "Identity of true is Some true\n",
      "Identity of \"Hello World!\" is Some \"Hello World!\"\n"
     ]
    },
    {
     "data": {
      "text/html": [
       "<null>"
      ]
     },
     "execution_count": 83,
     "metadata": {},
     "output_type": "execute_result"
    }
   ],
   "source": [
    "let bind a =\n",
    "    Some a\n",
    "    \n",
    "let map func a = \n",
    "    match a with\n",
    "    | Some value -> Some (func value)\n",
    "    | None -> None\n",
    "\n",
    "let id: 'a -> 'a = fun (a: 'a) -> a\n",
    "\n",
    "printfn \"Identity of 4.07 is %A\" (map id (bind 4.07))\n",
    "printfn \"Identity of true is %A\" (map id (bind true))\n",
    "printfn \"Identity of \\\"Hello World!\\\" is %A\" (map id (bind \"Hello World!\"))"
   ]
  },
  {
   "cell_type": "markdown",
   "metadata": {},
   "source": [
    "### Composition"
   ]
  },
  {
   "cell_type": "code",
   "execution_count": 85,
   "metadata": {},
   "outputs": [
    {
     "name": "stdout",
     "output_type": "stream",
     "text": [
      "Left: Some 11\n",
      "Right: Some 11\n"
     ]
    },
    {
     "data": {
      "text/html": [
       "<null>"
      ]
     },
     "execution_count": 85,
     "metadata": {},
     "output_type": "execute_result"
    }
   ],
   "source": [
    "let bind a =\n",
    "    Some a\n",
    "\n",
    "let map func a = \n",
    "    match a with\n",
    "    | Some value -> Some (func value)\n",
    "    | None -> None\n",
    "    \n",
    "let (>=>) f1 f2 = fun a -> f1 (f2 a)\n",
    "\n",
    "let value5 = bind 5\n",
    "let add2 = fun a -> a + 2\n",
    "let add4 = fun b -> b + 4\n",
    "\n",
    "let left = map (add2 >> add4)\n",
    "let right = (map add2) >=> (map add4)\n",
    "\n",
    "printfn \"Left: %A\" (left value5) \n",
    "printfn \"Right: %A\" (right value5)"
   ]
  },
  {
   "cell_type": "markdown",
   "metadata": {},
   "source": [
    "### Associativity "
   ]
  },
  {
   "cell_type": "code",
   "execution_count": null,
   "metadata": {},
   "outputs": [],
   "source": []
  },
  {
   "cell_type": "markdown",
   "metadata": {},
   "source": [
    "Now that we have two categories, we need a way to go from one to another. This transformation between two categories is called a `functor`. In other words, `functor` is something that defines a `map` from category `A` category to category `B`."
   ]
  },
  {
   "cell_type": "markdown",
   "metadata": {},
   "source": [
    "## Monoid"
   ]
  },
  {
   "cell_type": "code",
   "execution_count": null,
   "metadata": {},
   "outputs": [],
   "source": []
  },
  {
   "cell_type": "markdown",
   "metadata": {},
   "source": [
    "## Resources"
   ]
  },
  {
   "cell_type": "markdown",
   "metadata": {},
   "source": [
    "- [Object-Oriented Programming — The Trillion Dollar Disaster](https://medium.com/better-programming/object-oriented-programming-the-trillion-dollar-disaster-92a4b666c7c7)\n",
    "- [Category (mathematics)](https://en.wikipedia.org/wiki/Category_(mathematics))\n",
    "- [Associativity](https://en.wikipedia.org/wiki/Associative_property)\n",
    "- [A Fistful of Monads](http://learnyouahaskell.com/a-fistful-of-monads)\n",
    "- [Functors, Applicative Functors and Monoids](http://learnyouahaskell.com/functors-applicative-functors-and-monoids)\n",
    "- [For a Few Monads More](http://learnyouahaskell.com/for-a-few-monads-more)\n",
    "- [Brian Beckman: Don't fear the Monad](https://channel9.msdn.com/Shows/Going+Deep/Brian-Beckman-Dont-fear-the-Monads)\n",
    "- [What the Functor?](https://www.matthewgerstman.com/tech/what-the-functor/)\n",
    "- [Daniela Sfregola - A Pragmatic Introduction to Category Theories](https://www.youtube.com/watch?v=8XGFFMPHG0o)\n",
    "- [Your easy guide to Monads, Applicatives, & Functors](https://medium.com/@lettier/your-easy-guide-to-monads-applicatives-functors-862048d61610)\n",
    "- [Explaining monads](http://www.ouarzy.com/2017/09/27/explaining-monads/)\n",
    "- [Category Theory for Programmers: The Preface](https://bartoszmilewski.com/2014/10/28/category-theory-for-programmers-the-preface/)\n",
    "- [IO monad: which, why and how](https://kubuszok.com/2019/io-monad-which-why-and-how/)\n",
    "- [From Haskell to F#](https://giuliohome.wordpress.com/2019/04/08/from-haskell-to-f/)\n",
    "- [From design patterns to category theory](https://blog.ploeh.dk/2017/10/04/from-design-patterns-to-category-theory/)\n",
    "- [Monads explained in C#](https://mikhail.io/2016/01/monads-explained-in-csharp/)\n",
    "- [Monads explained in C# (again)](https://mikhail.io/2018/07/monads-explained-in-csharp-again/)\n",
    "- [Introduction to Functors in C#](https://medium.com/@dimpapadim3/monads-in-oop-with-c-a4ec11f1f9d9)\n",
    "- [Monoids in C#](https://medium.com/@dimpapadim3/monoids-in-oop-with-c-42060d3495a7)\n",
    "- [Monads for object oriented programming with C#](https://medium.com/@dimpapadim3/monads-in-oop-with-c-a4ec11f1f9d9)\n",
    "- [Functor, Applicative, and Why](https://medium.com/axiomzenteam/functor-applicative-and-why-8a08f1048d3d)\n",
    "- [Option, Either, State, and IO: Imperative programming in a functional world](https://medium.com/disney-streaming/option-either-state-and-io-imperative-programming-in-a-functional-world-8e176049af81)"
   ]
  },
  {
   "cell_type": "code",
   "execution_count": null,
   "metadata": {},
   "outputs": [],
   "source": []
  }
 ],
 "metadata": {
  "kernelspec": {
   "display_name": ".NET (F#)",
   "language": "F#",
   "name": ".net-fsharp"
  },
  "language_info": {
   "file_extension": ".fs",
   "mimetype": "text/x-fsharp",
   "name": "C#",
   "pygments_lexer": "fsharp",
   "version": "4.5"
  }
 },
 "nbformat": 4,
 "nbformat_minor": 2
}
