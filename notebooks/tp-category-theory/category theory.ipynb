{
 "cells": [
  {
   "cell_type": "markdown",
   "metadata": {},
   "source": [
    "# Functors, Monoids, Monads"
   ]
  },
  {
   "cell_type": "markdown",
   "metadata": {},
   "source": [
    "The world of programming is a complex world nowerdays. There is so many libraries, so many frameworks, so many thinngs to program against. This requires a way to deal with all this complexity that's piled up in each and every ptojecct over the years. Now, we need to support those project for couplle of years, even tens of years afterwards, right? And we want not to just deal with legacy code, but to actually have it up to date, have it clean and easy to understand.\n",
    "\n",
    "Right now, what OOP offers has failed with it's task. For further reading I suggest a blog post on Medium called [\"Object-Oriented Programming — The Trillion Dollar Disaster\"](https://medium.com/better-programming/object-oriented-programming-the-trillion-dollar-disaster-92a4b666c7c7) by Ilya Suzdalnitski.\n",
    "\n",
    "In functional programming we deal with complexity by combining little pieces toghether. Those pieces are actually functions. And we want them to be simple, decoupled and easy to undnerstand, so that we have a set of building blocks which can be used and combined in different ways. Like when we're building a house with bricks - small building blocks that help us to create all those different and unique houses that suit our needs."
   ]
  },
  {
   "cell_type": "markdown",
   "metadata": {},
   "source": [
    "## Functor"
   ]
  },
  {
   "cell_type": "markdown",
   "metadata": {},
   "source": [
    "Now, how do we combine functions? Let's look at the example:"
   ]
  },
  {
   "cell_type": "code",
   "execution_count": 1,
   "metadata": {},
   "outputs": [],
   "source": [
    "let fromStringToFloat (value: string) = float value\n",
    "let fromtFloatToInt (value: float) = int value\n",
    "let fromIntToTuple (value: int) = (value, value)"
   ]
  },
  {
   "cell_type": "markdown",
   "metadata": {},
   "source": [
    "We declared two functions - one that converts from string to an actual number and the other rounds the floating point number to an integer. Now in order to combine tose two we can do the follwing:"
   ]
  },
  {
   "cell_type": "code",
   "execution_count": 2,
   "metadata": {},
   "outputs": [
    {
     "name": "stdout",
     "output_type": "stream",
     "text": [
      "Number: (4, 4)\n"
     ]
    },
    {
     "data": {
      "text/html": [
       "<null>"
      ]
     },
     "execution_count": 2,
     "metadata": {},
     "output_type": "execute_result"
    }
   ],
   "source": [
    "let fromoStringToTuple (value: string) = fromIntToTuple(fromtFloatToInt(fromStringToFloat(value)))\n",
    "let number = fromoStringToTuple \"4.07\"\n",
    "printfn \"Number: %A\" number"
   ]
  },
  {
   "cell_type": "markdown",
   "metadata": {},
   "source": [
    "This is one way to do it, but it requires to explicitly definne the input parameter types. Nesting the function calls is not a very good way to combine functions, because  when there will be more functions to combine, the code will become what is known as \"pyramid of doom\". But good news - we can refactor this code into a more beautiful one!"
   ]
  },
  {
   "cell_type": "code",
   "execution_count": 3,
   "metadata": {},
   "outputs": [
    {
     "name": "stdout",
     "output_type": "stream",
     "text": [
      "Number: (4, 4)\n"
     ]
    },
    {
     "data": {
      "text/html": [
       "<null>"
      ]
     },
     "execution_count": 3,
     "metadata": {},
     "output_type": "execute_result"
    }
   ],
   "source": [
    "let fromStringToFloat value = float value\n",
    "let fromtFloatToInt value = int value\n",
    "let fromoIntToTuple value = (value, value)\n",
    "let fromoStringToInt = fromStringToFloat >> fromtFloatToInt >> fromoIntToTuple\n",
    "let number = fromoStringToInt \"4.07\"\n",
    "printfn \"Number: %A\" number"
   ]
  },
  {
   "cell_type": "markdown",
   "metadata": {},
   "source": [
    "Notice, that we used the `>>` operator. This is a function composition operator. It allows to create a new function by composing two or more functions. In order to do this, each function that takes and input from previous one, has to have exactly one input parameter and the retuurn type has to match the input type of the following function."
   ]
  },
  {
   "cell_type": "markdown",
   "metadata": {},
   "source": [
    "## Resources"
   ]
  },
  {
   "cell_type": "markdown",
   "metadata": {},
   "source": [
    "- [Object-Oriented Programming — The Trillion Dollar Disaster](https://medium.com/better-programming/object-oriented-programming-the-trillion-dollar-disaster-92a4b666c7c7)\n",
    "- [A Fistful of Monads](http://learnyouahaskell.com/a-fistful-of-monads)\n",
    "- [Functors, Applicative Functors and Monoids](http://learnyouahaskell.com/functors-applicative-functors-and-monoids)\n",
    "- [For a Few Monads More](http://learnyouahaskell.com/for-a-few-monads-more)\n",
    "- [Brian Beckman: Don't fear the Monad](https://channel9.msdn.com/Shows/Going+Deep/Brian-Beckman-Dont-fear-the-Monads)\n",
    "- [What the Functor?](https://www.matthewgerstman.com/tech/what-the-functor/)\n",
    "- [Your easy guide to Monads, Applicatives, & Functors](https://medium.com/@lettier/your-easy-guide-to-monads-applicatives-functors-862048d61610)\n",
    "- [Explaining monads](http://www.ouarzy.com/2017/09/27/explaining-monads/)\n",
    "- [Category Theory for Programmers: The Preface](https://bartoszmilewski.com/2014/10/28/category-theory-for-programmers-the-preface/)\n",
    "- [IO monad: which, why and how](https://kubuszok.com/2019/io-monad-which-why-and-how/)\n",
    "- [From Haskell to F#](https://giuliohome.wordpress.com/2019/04/08/from-haskell-to-f/)\n",
    "- [From design patterns to category theory](https://blog.ploeh.dk/2017/10/04/from-design-patterns-to-category-theory/)\n",
    "- [Monads explained in C#](https://mikhail.io/2016/01/monads-explained-in-csharp/)\n",
    "- [Monads explained in C# (again)](https://mikhail.io/2018/07/monads-explained-in-csharp-again/)\n",
    "- [Introduction to Functors in C#](https://medium.com/@dimpapadim3/monads-in-oop-with-c-a4ec11f1f9d9)\n",
    "- [Monoids in C#](https://medium.com/@dimpapadim3/monoids-in-oop-with-c-42060d3495a7)\n",
    "- [Monads for object oriented programming with C#](https://medium.com/@dimpapadim3/monads-in-oop-with-c-a4ec11f1f9d9)\n",
    "- [Functor, Applicative, and Why](https://medium.com/axiomzenteam/functor-applicative-and-why-8a08f1048d3d)\n",
    "- [Option, Either, State, and IO: Imperative programming in a functional world](https://medium.com/disney-streaming/option-either-state-and-io-imperative-programming-in-a-functional-world-8e176049af81)"
   ]
  },
  {
   "cell_type": "code",
   "execution_count": null,
   "metadata": {},
   "outputs": [],
   "source": []
  }
 ],
 "metadata": {
  "kernelspec": {
   "display_name": ".NET (F#)",
   "language": "F#",
   "name": ".net-fsharp"
  },
  "language_info": {
   "file_extension": ".fs",
   "mimetype": "text/x-fsharp",
   "name": "C#",
   "pygments_lexer": "fsharp",
   "version": "4.5"
  }
 },
 "nbformat": 4,
 "nbformat_minor": 2
}
