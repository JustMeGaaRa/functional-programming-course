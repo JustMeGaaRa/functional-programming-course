{
 "cells": [
  {
   "cell_type": "markdown",
   "metadata": {},
   "source": [
    "# Functions"
   ]
  },
  {
   "cell_type": "markdown",
   "metadata": {},
   "source": [
    "Functional programming languages have being around for more that 60 years. Some of them are the likes of Lisp, Closure, ML, Haskell, F# and many others.\n",
    "\n",
    "First of all, what is functional programming? This is not a pradigm, it's programming style. Writing programs the functional way does not mean you cannot write some OOP code as well. You can mix the two. Functional programming is simply all about functions.\n",
    "\n",
    "In the world of programming we have two main building blocks - data and functions. Functional languages are not an exception in this case."
   ]
  },
  {
   "cell_type": "markdown",
   "metadata": {},
   "source": [
    "## PrimitiveTypes"
   ]
  },
  {
   "cell_type": "markdown",
   "metadata": {},
   "source": [
    "In F# we have the following primitive data types:"
   ]
  },
  {
   "cell_type": "code",
   "execution_count": 1,
   "metadata": {},
   "outputs": [
    {
     "name": "stdout",
     "output_type": "stream",
     "text": [
      "An integer: 17\n",
      "A float: 4.070000\n",
      "A double: 4.070000\n",
      "Hello World!\n",
      "F# is awesome: true\n",
      "Pair: (3, 5)\n",
      "Array: [|1; 2; 3|]\n",
      "List: [3; 4; 5]\n"
     ]
    },
    {
     "data": {
      "text/html": [
       "<null>"
      ]
     },
     "execution_count": 1,
     "metadata": {},
     "output_type": "execute_result"
    }
   ],
   "source": [
    "let integer = 17\n",
    "printfn \"An integer: %i\" integer\n",
    "\n",
    "let fraction1 = 4.07\n",
    "printfn \"A float: %f\" fraction1\n",
    "\n",
    "let fraction2 = double fraction1\n",
    "printfn \"A double: %f\" fraction2\n",
    "\n",
    "let greeting = \"World\"\n",
    "printfn \"Hello %s!\" greeting\n",
    "\n",
    "let fsharpIsAwesome = true\n",
    "printfn \"F# is awesome: %A\" fsharpIsAwesome\n",
    "\n",
    "let pairOfInts = (3, 5)\n",
    "printfn \"Pair: %A\" pairOfInts\n",
    "\n",
    "let integerArray = [|1;2;3|]\n",
    "printfn \"Array: %A\" integerArray\n",
    "\n",
    "let integerList = [3;4;5]\n",
    "printfn \"List: %A\" integerList"
   ]
  },
  {
   "cell_type": "markdown",
   "metadata": {},
   "source": [
    "Whenever we set a value to a variable we cannot mutate it. In F# they are actually called value bindings. Well, in fact to mutate the value of a binding, we need to explicitly state that it is mutable. By default all values are immutable."
   ]
  },
  {
   "cell_type": "code",
   "execution_count": 2,
   "metadata": {},
   "outputs": [
    {
     "name": "stdout",
     "output_type": "stream",
     "text": [
      "The answer is: 42\n",
      "The answer changed to: 17\n"
     ]
    },
    {
     "data": {
      "text/html": [
       "<null>"
      ]
     },
     "execution_count": 2,
     "metadata": {},
     "output_type": "execute_result"
    }
   ],
   "source": [
    "let mutable value = 42\n",
    "printfn \"The answer is: %i\" value\n",
    "\n",
    "value <- 17\n",
    "printfn \"The answer changed to: %i\" value"
   ]
  },
  {
   "cell_type": "markdown",
   "metadata": {},
   "source": [
    "## Functions"
   ]
  },
  {
   "cell_type": "markdown",
   "metadata": {},
   "source": [
    "Now, we have to process the data. We can do that with a function. So what is a function? Function is something that operates on data, it takes an input and produces an output.\n",
    "\n",
    "![Function](../../resources/fn-function-definition.png)\n",
    "\n",
    "First, let's start with a mathematical definition of a function.\n",
    "\n",
    "```\n",
    "f(x): int -> int, x c N\n",
    "```\n",
    "\n",
    "Here `f` is the name of the function and `x` is the functiona argument. We have defined, that function takes an argument of type `int`, does some transformation of the value and return another instance of type `int`.\n",
    "\n",
    "This is how you would declare a function in F#:"
   ]
  },
  {
   "cell_type": "code",
   "execution_count": 3,
   "metadata": {},
   "outputs": [],
   "source": [
    "// function definition\n",
    "type Function = int -> int\n",
    "\n",
    "// function declaration that squares the number\n",
    "let sqr: Function = fun (x: int) -> x * x"
   ]
  },
  {
   "cell_type": "markdown",
   "metadata": {},
   "source": [
    "We can narrow this down to:"
   ]
  },
  {
   "cell_type": "code",
   "execution_count": 4,
   "metadata": {},
   "outputs": [],
   "source": [
    "let sqr x = x * x"
   ]
  },
  {
   "cell_type": "markdown",
   "metadata": {},
   "source": [
    "The left part is value binding - a declaration and initialization of a value. Part after the equal sign is the value itself. In our case it is the function. Functions in F# are treated as values, and so they are first-class citizens.\n",
    "\n",
    "\n",
    "Some of the built-in functions: printf, printfn, float, int, string.\n",
    "`printf` workd like `Console.Write` as it takes first parameter which is a strin format and all that follow are the data.\n",
    "`printfn` works the same as `Console.WriteLine`. We can use `Console.WriteLine` instead of `printfn`, but then we will loose the composibility and the syntax will look a bit odd."
   ]
  },
  {
   "cell_type": "markdown",
   "metadata": {},
   "source": [
    "## Lambda Functions"
   ]
  },
  {
   "cell_type": "markdown",
   "metadata": {},
   "source": [
    "There are times when we need an anonymous function, a one without a name. Those are called lambda functions. This is how a labda is declared:"
   ]
  },
  {
   "cell_type": "code",
   "execution_count": 5,
   "metadata": {},
   "outputs": [],
   "source": [
    "let func = fun x ->  x * 2"
   ]
  },
  {
   "cell_type": "markdown",
   "metadata": {},
   "source": [
    "This way a value binding was declared and the value happed to be a function. Just as we did with simple data values. Now this value can be passed around as simple data. This is particulary useful when we want to pass the function as a parameter into other function."
   ]
  },
  {
   "cell_type": "markdown",
   "metadata": {},
   "source": [
    "## Higher-order Functions"
   ]
  },
  {
   "cell_type": "markdown",
   "metadata": {},
   "source": [
    "Functions that take other functions as a parameter or return a function as value are called `Higher-order functions`.\n",
    "\n",
    "Higher-order functions are particulary useful in lots of cases, like when using `List.map` for example. Let's have a look at the example wherer we want to transform a list of integers. If we were to build a framework, or if we want our functions to be reusable then they need to be flexible."
   ]
  },
  {
   "cell_type": "code",
   "execution_count": 27,
   "metadata": {},
   "outputs": [
    {
     "name": "stdout",
     "output_type": "stream",
     "text": [
      "Original: [1; 3; 6; 9]\n",
      "Squared: [1; 9; 36; 81]\n"
     ]
    },
    {
     "data": {
      "text/html": [
       "<null>"
      ]
     },
     "execution_count": 27,
     "metadata": {},
     "output_type": "execute_result"
    }
   ],
   "source": [
    "let integers = [1;3;6;9]\n",
    "printfn \"Original: %A\" integers\n",
    "\n",
    "let square = fun i -> i * i\n",
    "let squares = List.map square integers\n",
    "printfn \"Squared: %A\" squares"
   ]
  },
  {
   "cell_type": "markdown",
   "metadata": {},
   "source": [
    "## Closures"
   ]
  },
  {
   "cell_type": "markdown",
   "metadata": {},
   "source": [
    "But what if wee need to pass two parameters to the labmda in order to transform the data? How do we do that? For this we have what is called `closure`. A closure is a a feature of the language to catch the reference to a variable in a function where this variable is used. Let me show what I mean on previous example but slightly modified."
   ]
  },
  {
   "cell_type": "code",
   "execution_count": 26,
   "metadata": {},
   "outputs": [
    {
     "name": "stdout",
     "output_type": "stream",
     "text": [
      "Original: [1; 3; 6; 9]\n",
      "Multiplied: [5; 15; 30; 45]\n"
     ]
    },
    {
     "data": {
      "text/html": [
       "<null>"
      ]
     },
     "execution_count": 26,
     "metadata": {},
     "output_type": "execute_result"
    }
   ],
   "source": [
    "let integers = [1;3;6;9]\n",
    "printfn \"Original: %A\" integers\n",
    "\n",
    "let multiplier = 5\n",
    "let multiply = fun i -> i * multiplier\n",
    "\n",
    "let multiplied = List.map multiply integers\n",
    "printfn \"Multiplied: %A\" multiplied"
   ]
  },
  {
   "cell_type": "markdown",
   "metadata": {},
   "source": [
    "In this example the variable `multiplier` is caught in a closure - the scope of the labmda funtion. This way the labda taken only one parameter `i`, but also holds a reference to variable `multiplier`."
   ]
  },
  {
   "cell_type": "markdown",
   "metadata": {},
   "source": [
    "## Partial Application"
   ]
  },
  {
   "cell_type": "markdown",
   "metadata": {},
   "source": [
    "There is another way to make a function that takes less parameters then required. In functional programming this feature is usually called `partial application`. Partial application (or partial function application) refers to the process of fixing a number of arguments to a function, producing another function of smaller arity [4]. Here is a slightly modified previous example."
   ]
  },
  {
   "cell_type": "code",
   "execution_count": 23,
   "metadata": {},
   "outputs": [
    {
     "name": "stdout",
     "output_type": "stream",
     "text": [
      "Original: [1; 3; 6; 9]\n",
      "Multiplied: [5; 15; 30; 45]\n"
     ]
    },
    {
     "data": {
      "text/html": [
       "<null>"
      ]
     },
     "execution_count": 23,
     "metadata": {},
     "output_type": "execute_result"
    }
   ],
   "source": [
    "let integers = [1;3;6;9]\n",
    "printfn \"Original: %A\" integers\n",
    "\n",
    "let multiply x y = x * y\n",
    "let multiplier = 5\n",
    "let multiplyBy5 = multiply multiplier\n",
    "\n",
    "let multiplied = List.map multiplyBy5 integers\n",
    "printfn \"Multiplied: %A\" multiplied"
   ]
  },
  {
   "cell_type": "markdown",
   "metadata": {},
   "source": [
    "So what is the difference between closure and partial application? If we break thing down to it's core, they are the same. They work the same, at least in F#. The thing is that partial apllication is used on function's last parameter and produces another function which can be used later on. If we compare two versions, then we will see that the one with closure holds a reference and function `mutiply` cannot be changed ever again. It now holds a reference to variable `multiplier` which is bound to value 5. No way to change it. The version with partial application produced a new function with it's own name called `multiplyBy5`, but the original `multiply` has not changed. This is a very neat and flexible way to reuse the functions."
   ]
  },
  {
   "cell_type": "markdown",
   "metadata": {},
   "source": [
    "## Currying"
   ]
  },
  {
   "cell_type": "markdown",
   "metadata": {},
   "source": [
    "This is all possible in F# due to the feature called `curryinng`. Currying is the technique of translating the evaluation of a function that takes multiple arguments into evaluating a sequence of functions, each with a single argument [3]. In fact, in F# every function is already curried. If you look at the function definition, we woul see somethinng like `int -> int -> string`, meaning that the function takes and input parameter of type `int` and return a function that taken another parameter of type `int` and return a type `string`."
   ]
  },
  {
   "cell_type": "markdown",
   "metadata": {},
   "source": [
    "## Resources"
   ]
  },
  {
   "cell_type": "markdown",
   "metadata": {},
   "source": [
    "Primitive types, Unit, tuples, functions (functions without parameters, how functions return result, functions with Unit return result), functions as values, nested functions, anonymous functions, list expression, array expression, “for” expressions, if..then..else expressions.\n",
    "F# script files, loading files, loading libraries, using Paket, running the scripts, etc.\n",
    "\n",
    "- [Functional Programming Fundamentals](https://www.matthewgerstman.com/tech/functional-programming-fundamentals/)\n",
    "- [First Class Functions](https://mostly-adequate.gitbooks.io/mostly-adequate-guide/ch02.html)\n",
    "- [Overview of types in F#](https://fsharpforfunandprofit.com/posts/overview-of-types-in-fsharp/)\n",
    "- [Type systems: dynamic versus static, strong versus weak](https://dev.to/jiangh/type-systems-dynamic-versus-static-strong-versus-weak-b6c)\n",
    "- [Function Values and Simple Values](https://fsharpforfunandprofit.com/posts/function-values-and-simple-values/)\n",
    "- [Overview of F# expressions](https://fsharpforfunandprofit.com/posts/understanding-fsharp-expressions/)\n",
    "- [Currying](https://en.wikipedia.org/wiki/Currying)\n",
    "- [Partial_Application](https://en.wikipedia.org/wiki/Partial_application)\n",
    "- [Curry and Function Composition](https://medium.com/javascript-scene/curry-and-function-composition-2c208d774983)\n",
    "- [10 Tips for Productive F# Scripting](https://brandewinder.com/2016/02/06/10-fsharp-scripting-tips/)"
   ]
  }
 ],
 "metadata": {
  "kernelspec": {
   "display_name": ".NET (F#)",
   "language": "F#",
   "name": ".net-fsharp"
  },
  "language_info": {
   "file_extension": ".fs",
   "mimetype": "text/x-fsharp",
   "name": "C#",
   "pygments_lexer": "fsharp",
   "version": "4.5"
  }
 },
 "nbformat": 4,
 "nbformat_minor": 2
}
