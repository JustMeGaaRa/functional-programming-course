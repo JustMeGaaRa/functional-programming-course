{
 "cells": [
  {
   "cell_type": "markdown",
   "metadata": {},
   "source": [
    "# Functions"
   ]
  },
  {
   "cell_type": "markdown",
   "metadata": {},
   "source": [
    "Functional programming languages have being around for more that 60 years. Some of them are the likes of Lisp, Closure, ML, Haskell, F# and many others.\n",
    "\n",
    "First of all, what is functional programming? This is not a pradigm, it's programming style. Writing programs the functional way does not mean you cannot write some OOP code as well. You can mix the two. Functional programming is simply all about functions.\n",
    "\n",
    "In functional programmin we have two main building blocks - data and functions."
   ]
  },
  {
   "cell_type": "markdown",
   "metadata": {},
   "source": [
    "## PrimitiveTypes"
   ]
  },
  {
   "cell_type": "markdown",
   "metadata": {},
   "source": [
    "In F# we have the following primitive data types:\n",
    "- int\n",
    "- float\n",
    "- double\n",
    "- string\n",
    "- DateTime\n",
    "- bool\n",
    "- array\n",
    "- list\n",
    "- tuple\n",
    "- enum\n",
    "\n",
    "Wheneveer we set a value to a variable we cannot mutate it. In F# they are actually called value bindings. Well, in fact to mutate the value of a binding, wee need to explicitly state that it is mutable. By default all values are immutable. This is how we declare a value binding:"
   ]
  },
  {
   "cell_type": "code",
   "execution_count": 5,
   "metadata": {},
   "outputs": [
    {
     "name": "stdout",
     "output_type": "stream",
     "text": [
      "The answer is: 42\n",
      "Hello World!\n",
      "F# is awesome: true\n"
     ]
    },
    {
     "data": {
      "text/html": [
       "<null>"
      ]
     },
     "execution_count": 5,
     "metadata": {},
     "output_type": "execute_result"
    }
   ],
   "source": [
    "let value = 42\n",
    "printfn \"The answer is: %i\" value\n",
    "\n",
    "let greeting = \"Hello World!\"\n",
    "printfn \"%s\" greeting\n",
    "\n",
    "let fsharpIsAwesome = true\n",
    "printfn \"F# is awesome: %A\" fsharpIsAwesome"
   ]
  },
  {
   "cell_type": "markdown",
   "metadata": {},
   "source": [
    "And to make the value mutable:"
   ]
  },
  {
   "cell_type": "code",
   "execution_count": 13,
   "metadata": {},
   "outputs": [
    {
     "name": "stdout",
     "output_type": "stream",
     "text": [
      "The answer is: 42\n",
      "The answer changed to: 17\n"
     ]
    },
    {
     "data": {
      "text/html": [
       "<null>"
      ]
     },
     "execution_count": 13,
     "metadata": {},
     "output_type": "execute_result"
    }
   ],
   "source": [
    "let mutable value = 42\n",
    "printfn \"The answer is: %i\" value\n",
    "\n",
    "value <- 17\n",
    "printfn \"The answer changed to: %i\" value"
   ]
  },
  {
   "cell_type": "markdown",
   "metadata": {},
   "source": [
    "## Functions"
   ]
  },
  {
   "cell_type": "markdown",
   "metadata": {},
   "source": [
    "So what is a function? Function is something that operates on data, it takes an input and produces an output.\n",
    "\n",
    "![Function](../../resources/fp-function-definition.png)\n",
    "\n",
    "First, let's start with a mathematical definition of a function.\n",
    "\n",
    "```\n",
    "f(x): int -> int, x c N\n",
    "```\n",
    "\n",
    "Here `f` is the name of the function and `x` is the functiona argument. We have defined, that function takes an argument of type `int`, does some transformation of the value and return another instance of type `int`.\n",
    "\n",
    "This is how you would declare a function in F#:"
   ]
  },
  {
   "cell_type": "code",
   "execution_count": null,
   "metadata": {},
   "outputs": [],
   "source": [
    "// function definition\n",
    "type Function = int -> int\n",
    "\n",
    "// function declaration that squares the number\n",
    "let sqr: Function = fun (x: int) -> x * x"
   ]
  },
  {
   "cell_type": "markdown",
   "metadata": {},
   "source": [
    "We can narrow this down to:"
   ]
  },
  {
   "cell_type": "code",
   "execution_count": null,
   "metadata": {},
   "outputs": [],
   "source": [
    "let sqr x = x * x"
   ]
  },
  {
   "cell_type": "markdown",
   "metadata": {},
   "source": [
    "The left part is value binding - a declaration and initialization of a value. Part after the equal sign is the value itself. In our case it is the function. Functions in F# are treated as values, and so they are first-class citizens."
   ]
  },
  {
   "cell_type": "markdown",
   "metadata": {},
   "source": [
    "## Lambda Functions"
   ]
  },
  {
   "cell_type": "markdown",
   "metadata": {},
   "source": []
  },
  {
   "cell_type": "markdown",
   "metadata": {},
   "source": [
    "## Higher-order Functions"
   ]
  },
  {
   "cell_type": "markdown",
   "metadata": {},
   "source": [
    "Since functions are values, it means that we can pass function into other functions as parameters or return as values. Those type of functions are called `Higher-order Functions`.\n",
    "\n",
    "Higher-order functions are particulary useful in lots of cases. Assume you have an algorithm that takes and array of values as an input:"
   ]
  },
  {
   "cell_type": "markdown",
   "metadata": {},
   "source": [
    "## Closures"
   ]
  },
  {
   "cell_type": "markdown",
   "metadata": {},
   "source": []
  },
  {
   "cell_type": "markdown",
   "metadata": {},
   "source": [
    "## Currying"
   ]
  },
  {
   "cell_type": "markdown",
   "metadata": {},
   "source": [
    "Currying is the technique of translating the evaluation of a function that takes multiple arguments into evaluating a sequence of functions, each with a single argument. [3]"
   ]
  },
  {
   "cell_type": "markdown",
   "metadata": {},
   "source": [
    "## Partial Application"
   ]
  },
  {
   "cell_type": "markdown",
   "metadata": {},
   "source": [
    "Partial application (or partial function application) refers to the process of fixing a number of arguments to a function, producing another function of smaller arity. [4]"
   ]
  },
  {
   "cell_type": "markdown",
   "metadata": {},
   "source": [
    "## Resources"
   ]
  },
  {
   "cell_type": "markdown",
   "metadata": {},
   "source": [
    "Primitive types, Unit, tuples, functions (functions without parameters, how functions return result, functions with Unit return result), functions as values, nested functions, anonymous functions, list expression, array expression, “for” expressions, if..then..else expressions.\n",
    "F# script files, loading files, loading libraries, using Paket, running the scripts, etc.\n",
    "\n",
    "- [Functional Programming Fundamentals](https://www.matthewgerstman.com/tech/functional-programming-fundamentals/)\n",
    "- [First Class Functions](https://mostly-adequate.gitbooks.io/mostly-adequate-guide/ch02.html)\n",
    "- [Overview of types in F#](https://fsharpforfunandprofit.com/posts/overview-of-types-in-fsharp/)\n",
    "- [Type systems: dynamic versus static, strong versus weak](https://dev.to/jiangh/type-systems-dynamic-versus-static-strong-versus-weak-b6c)\n",
    "- [Function Values and Simple Values](https://fsharpforfunandprofit.com/posts/function-values-and-simple-values/)\n",
    "- [Overview of F# expressions](https://fsharpforfunandprofit.com/posts/understanding-fsharp-expressions/)\n",
    "- [Currying](https://en.wikipedia.org/wiki/Currying)\n",
    "- [Partial_Application](https://en.wikipedia.org/wiki/Partial_application)\n",
    "- [Curry and Function Composition](https://medium.com/javascript-scene/curry-and-function-composition-2c208d774983)\n",
    "- [10 Tips for Productive F# Scripting](https://brandewinder.com/2016/02/06/10-fsharp-scripting-tips/)"
   ]
  },
  {
   "cell_type": "code",
   "execution_count": null,
   "metadata": {},
   "outputs": [],
   "source": []
  }
 ],
 "metadata": {
  "kernelspec": {
   "display_name": ".NET (F#)",
   "language": "F#",
   "name": ".net-fsharp"
  },
  "language_info": {
   "file_extension": ".fs",
   "mimetype": "text/x-fsharp",
   "name": "C#",
   "pygments_lexer": "fsharp",
   "version": "4.5"
  }
 },
 "nbformat": 4,
 "nbformat_minor": 2
}
