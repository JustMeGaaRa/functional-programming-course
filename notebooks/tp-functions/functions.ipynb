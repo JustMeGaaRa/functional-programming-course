{
 "cells": [
  {
   "cell_type": "markdown",
   "metadata": {},
   "source": [
    "# Functions"
   ]
  },
  {
   "cell_type": "markdown",
   "metadata": {},
   "source": [
    "During this course we will cover the fundamentals of F# programming language and principles of functional programming.\n",
    "\n",
    "Functional programming languages have being around for more that 60 years. Some of them are the likes of Lisp, Closure, ML, Haskell, F# and many others."
   ]
  },
  {
   "cell_type": "markdown",
   "metadata": {},
   "source": [
    "## Functions"
   ]
  },
  {
   "cell_type": "markdown",
   "metadata": {},
   "source": [
    "First of all, what is functional programming?\n",
    "This is not a pradigm, it's programming style. Writing programs the functional way does not mean you cannot write some OOP code as well. You can mix the two. \n",
    "\n",
    "Functional programming is simply all about functions. So what is a function? Function is something that takes an input and produces an output.\n",
    "\n",
    "![Function](../../resources/fp-function-definition.png)\n",
    "\n",
    "First, let's start with defining a function.\n",
    "\n",
    "```\n",
    "f(x): int -> int, x c N\n",
    "```\n",
    "\n",
    "Here `f` is the name of the function and `x` is the functiona argument. We have defined, that function takes an argument of type `int`, does some transformation of the value and return another instance of type `int`.\n",
    "\n",
    "This is how you would declare a function in F#:"
   ]
  },
  {
   "cell_type": "code",
   "execution_count": null,
   "metadata": {},
   "outputs": [],
   "source": [
    "// function definition\n",
    "type Function = int -> int\n",
    "\n",
    "// function declaration that squares the number\n",
    "let sqr: Function = fun (x: int) -> x * x"
   ]
  },
  {
   "cell_type": "markdown",
   "metadata": {},
   "source": [
    "We can narrow this down to:"
   ]
  },
  {
   "cell_type": "code",
   "execution_count": null,
   "metadata": {},
   "outputs": [],
   "source": [
    "let sqr x = x * x"
   ]
  },
  {
   "cell_type": "markdown",
   "metadata": {},
   "source": [
    "The left part is value binding - a declaration and initialization of a value. Part after the equal sign is the value itself. In our case it is the function. Functions in F# are treated as values, and so they are first-class citizens."
   ]
  },
  {
   "cell_type": "markdown",
   "metadata": {},
   "source": [
    "## Higher-order Functions"
   ]
  },
  {
   "cell_type": "markdown",
   "metadata": {},
   "source": [
    "Since functions are values, it means that we can pass function into other functions as parameters or return as values. Those type of functions are called `Higher-order Functions`.\n",
    "\n",
    "Higher-order functions are particulary useful in lots of cases. Assume you have an algorithm that takes and array of values as an input:"
   ]
  },
  {
   "cell_type": "markdown",
   "metadata": {},
   "source": [
    "## Resources"
   ]
  },
  {
   "cell_type": "markdown",
   "metadata": {},
   "source": [
    "Primitive types, Unit, tuples, functions (functions without parameters, how functions return result, functions with Unit return result), functions as values, nested functions, anonymous functions, list expression, array expression, “for” expressions, if..then..else expressions.\n",
    "\n",
    "https://fsharpforfunandprofit.com/posts/understanding-fsharp-expressions/\n",
    "\n",
    "https://www.matthewgerstman.com/tech/functional-programming-fundamentals/\n",
    "\n",
    "F# script files, loading files, loading libraries, using Paket, running the scripts, etc.\n",
    "\n",
    "https://brandewinder.com/2016/02/06/10-fsharp-scripting-tips/"
   ]
  }
 ],
 "metadata": {
  "kernelspec": {
   "display_name": ".NET (F#)",
   "language": "F#",
   "name": ".net-fsharp"
  },
  "language_info": {
   "file_extension": ".fs",
   "mimetype": "text/x-fsharp",
   "name": "C#",
   "pygments_lexer": "fsharp",
   "version": "4.5"
  }
 },
 "nbformat": 4,
 "nbformat_minor": 2
}
