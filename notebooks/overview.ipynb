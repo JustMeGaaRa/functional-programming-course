{
 "cells": [
  {
   "cell_type": "markdown",
   "metadata": {},
   "source": [
    "# Functional Programming Course"
   ]
  },
  {
   "cell_type": "markdown",
   "metadata": {},
   "source": [
    "## Table of Contents\n",
    "\n",
    "- [Abstract](#Abstract)\n",
    "- [Course Overview](#Topics-Overview)\n",
    "\n",
    "This is a course about functional programming. It is intended to introduce people to the concepts of functional programming and functional reactive programming with examples in C#, F# and TypeScript."
   ]
  },
  {
   "cell_type": "markdown",
   "metadata": {},
   "source": [
    "## Abstract\n",
    "\n",
    "> Disclaimer: I am no expert on the topic of Category Theory, nor do I consider myself expert in F#. Topic listed below are purely what I've learned and would like to share and try to explain.\n",
    "\n",
    "Within each topic I will try to answer three questions:\n",
    "- Why is it important to learn deal with the problem?\n",
    "- How can we solve the problem?\n",
    "- What tools do we need to solve this problem?\n",
    "\n",
    "I'll start with the description of this course.\n",
    "\n",
    "### Why is it important to learn new programming style?\n",
    "I believe that learning new programming styles and practices makes us a better programmer. It helps us to understand the systems, frameworks and the world of programming. Moreover, it gives us the tools to come up with creative and elegant solutions to previously unknown problems.\n",
    "\n",
    "If you know one language, then you can write code in that language. If you know two languages, then you can code in two languages and maybe use techniques from one language in the other language. But if you know a language, or two languages, or three you start to see the patterns, the principles between common problems. You start to notice that the problem is there in the first place. It becomes easier to estimate the complexity of the system an the task. You can quickly understand how to integrate with it, how to fix the issue, what are the resources needed to work on it. Learning new languages becomes easier, quicker and more pleasant thing to do.\n",
    "\n",
    "Nowadays there are armies of developers who use OOP in everyday life. They fight the imperative dragon with factories and strategies, and strategy factories. They use shields of inheritance to protect themselves and versatility of polymorphism parry the attacks of ever-changing requirements, until they burn themselves with tight coupling and boilerplate code. Functional programming is here to help deal with the complexity.\n",
    "\n",
    "### How can we learn a new programming style fast and simple?\n",
    "Each paradigm and programming style has its own principles and concepts. The easiest way to learn something new and completely different is to try and compare it with what you already know. Given code examples in different languages side-by-side should help to understand new concepts and learn how to use them in real-world. This course is will introduce those principles with examples in C#, F# and TypeScript. Some of those languages are imperative-first (like C# and TypeScript), some are functional-first (like F#). This should be a great way to introduce new concepts in a language that people have been working with for some time.\n",
    "\n",
    "### What is there to use to improve productivity?\n",
    "As the result of this course you should know and understand the common principles behind functional programming. You shall learn when to use it and how to be more productive at times. It's not only about productivity, but about correctness of the system. So, you'll have a better understanding on how to write more error prone code and benefit from features like type inference and functional data types."
   ]
  },
  {
   "cell_type": "markdown",
   "metadata": {},
   "source": [
    "\n",
    "## Topics Overview\n",
    "- [Functions](./tp-functions/README.md)\n",
    "- [Functional Purity](./tp-purity/README.md)\n",
    "- [Recursion](./tp-recursion/README.md)\n",
    "- [Immutability](./tp-immutability/README.md)\n",
    "- [Category Theory](./tp-category-theory/README.md)\n",
    "- [Railway-Oriented Programming](./tp-railway-oriented/README.md)\n",
    "- [Functional Reactive](./tp-functional-reactive/README.md)\n",
    "- [Asynchrony](./tp-asynchrony/README.md)\n",
    "- [Functional Domain Modeling](./tp-ddd/README.md)\n",
    "- [Functional Patterns](./tp-functional-patterns/README.md)\n",
    "- [Unidirectional UI Patterns](./tp-unidirectional-uis/README.md)\n",
    "- [F# Features](./tp-fsharp-features/README.md)\n",
    "- [Type Providers](./tp-type-providers/README.md)"
   ]
  },
  {
   "cell_type": "markdown",
   "metadata": {},
   "source": [
    "## Why looking into this course?\n",
    "I've spend hundreds of hours learning and researching these topic, so I definitely know enough to use it. While preparing this course, I've used multiple resources and reviewed the material several times. In order to understand the theory and structure it in a good way, I've practiced everything in this course. There are actually implementation in this course and some external projects that made use of the knowledge I gained.\n",
    " \n",
    "## Why Conway's 'Game of Life' as an example?\n",
    "Because it is simple enough to implement in different languages and still being able to show most of the features on a real-world working application. Moreover, I love developing simple games.\n",
    "\n",
    "## About Me\n",
    "- [GitHub](https://github.com/JustMeGaaRa)\n",
    "- [Twitter](https://twitter.com/justmegaara)\n",
    "- [LinkedIn](https://www.linkedin.com/in/pavlohodysh/)\n",
    "- [Website](http://walkingdownthesilence.me)"
   ]
  },
  {
   "cell_type": "markdown",
   "metadata": {},
   "source": [
    "\n",
    "## Resources\n",
    "- [F# for C# programmers](https://www.youtube.com/watch?v=KPa8Yw_Navk)\n",
    "- [Mere Functional Programming](https://dev.to/kspeakman/mere-functional-programming-in-f-do8)\n",
    "- [Exceptions vs. Result Types in F#](https://danielwertheim.se/exceptions-vs-the-result-type-in-fsharp/)\n",
    "- [The Rise and Fall of Object-Oriented Programming](https://medium.com/machine-words/the-rise-and-fall-of-object-oriented-programming-d67078f970e2)\n",
    "- [Mostly Adequate Guide to Functional Programming](https://mostly-adequate.gitbooks.io/mostly-adequate-guide/)\n",
    "- [Pros and Cons of Functional Programming](https://itnext.io/pros-and-cons-of-functional-programming-32cdf527e1c2)\n",
    "- [Disadvantage of Functional Programming](https://alvinalexander.com/scala/fp-book/disadvantages-of-functional-programming)\n",
    "- [What are the Disadvantages of Functional Programming?](https://www.quora.com/What-are-some-limitations-disadvantages-of-functional-programming-Where-does-it-break-down-when-you-want-to-get-things-done/answer/Tikhon-Jelvis)\n",
    "- Real-World Functional Programming\n",
    "- Programming F# 3.0 2nd Edition\n",
    "- F# for C# Developers\n",
    "- [Orleans Event Sourcing](http://dotnet.github.io/orleans/Documentation/grains/event_sourcing/index.html)\n",
    "- [Event Sourcing is Awesome](https://medium.com/jettech/event-sourcing-is-awesome-c4fe25ad24cd)\n",
    "- [Building a Game with SignalR and F#](http://www.codesuji.com/2019/02/19/Building-Game-with-SignalR-and-F/)\n",
    "- [Build a web service with F# and .NET Core 2.0](https://devblogs.microsoft.com/dotnet/build-a-web-service-with-f-and-net-core-2-0/)"
   ]
  },
  {
   "cell_type": "code",
   "execution_count": null,
   "metadata": {},
   "outputs": [],
   "source": []
  }
 ],
 "metadata": {
  "kernelspec": {
   "display_name": ".NET (F#)",
   "language": "F#",
   "name": ".net-fsharp"
  },
  "language_info": {
   "file_extension": ".fs",
   "mimetype": "text/x-fsharp",
   "name": "C#",
   "pygments_lexer": "fsharp",
   "version": "4.5"
  }
 },
 "nbformat": 4,
 "nbformat_minor": 2
}
