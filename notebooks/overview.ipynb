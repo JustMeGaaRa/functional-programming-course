{
 "cells": [
  {
   "cell_type": "markdown",
   "metadata": {},
   "source": [
    "# Functional Programming Course"
   ]
  },
  {
   "cell_type": "markdown",
   "metadata": {},
   "source": [
    "## Table of Contents"
   ]
  },
  {
   "cell_type": "markdown",
   "metadata": {},
   "source": [
    "- [Abstract](#Abstract)\n",
    "- [Course Overview](#Topics-Overview)\n",
    "\n",
    "This is a course about functional programming. It is intended to introduce people to the concepts of functional programming and functional reactive programming with examples in C#, F# and TypeScript."
   ]
  },
  {
   "cell_type": "markdown",
   "metadata": {},
   "source": [
    "## Abstract"
   ]
  },
  {
   "cell_type": "markdown",
   "metadata": {},
   "source": [
    "Within each topic I will try to answer three questions:\n",
    "- Why is it important to learn deal with the problem?\n",
    "- How can we solve the problem?\n",
    "- What tools do we need to solve this problem?\n",
    "\n",
    "I'll start with the description of this course."
   ]
  },
  {
   "cell_type": "markdown",
   "metadata": {},
   "source": [
    "### Why is it important to learn functional programming?"
   ]
  },
  {
   "cell_type": "markdown",
   "metadata": {},
   "source": [
    "I believe that learning new programming styles and practices makes us a better programmer. It helps us to understand the systems, frameworks and the world of programming. Moreover, it gives us the tools to come up with creative and elegant solutions to previously unknown problems.\n",
    "\n",
    "If you know one language, then you can write code in that language. If you know two languages, then you can code in two languages and maybe use techniques from one language in the other language. But if you know a language, or two languages, or three you start to see the patterns, the principles between common problems. You start to notice that the problem is there in the first place. It becomes easier to estimate the complexity of the system an the task. You can quickly understand how to integrate with it, how to fix the issue, what are the resources needed to work on it. Learning new languages becomes easier, quicker and more pleasant thing to do.\n",
    "\n",
    "Nowadays there are armies of developers who use OOP in everyday life. They fight the imperative dragon with factories and strategies, and strategy factories. They use shields of inheritance to protect themselves and versatility of polymorphism parry the attacks of ever-changing requirements, until they burn themselves with tight coupling and boilerplate code. Functional programming is here to help deal with the complexity."
   ]
  },
  {
   "cell_type": "markdown",
   "metadata": {},
   "source": [
    "### How can we deal with the complexity?"
   ]
  },
  {
   "cell_type": "markdown",
   "metadata": {},
   "source": [
    "Each paradigm has its own principles - pillars on which it stands. This course is will introduce those principles with examples in C#, F# and TypeScript. Some of those languages are imperative-first (like C# and TypeScript), some are functional-first (like F#). This should be a great way to introduce functional concepts in a language that people have been working with for some time. Moreover, comparing the code side by side will help to understand the implementation in other languages.\n",
    "\n",
    "- A complete project as a real-world example, and examples ONLY for additional concepts.\n",
    "- A comparison of code in different languages, for people with different backgrounds to understand the concepts easier.\n",
    "- Introduce the functional principles.\n",
    "- Show functional principles applied in different languages.\n",
    "- Compare functional paradigm to imperative, so that people know when it's better and when not.\n",
    "- Explain some of the techniques/architecture built around functional programming and how to implement them.\n",
    "- Introduce F# language and it's syntax.\n",
    "- Watch some great videos from community experts, discuss, communicate and simply have fun in the process."
   ]
  },
  {
   "cell_type": "markdown",
   "metadata": {},
   "source": [
    "### What tools functional programming has to offer?"
   ]
  },
  {
   "cell_type": "markdown",
   "metadata": {},
   "source": [
    "As the result of this course you should know and understand the common principles behind functional programming. You shall learn when to use it and how to be more productive at times. It's not only about productivity, but about correctness of the system. So, you'll have a better understanding on how to write more error prone code and benefit from features like type inference and functional data types."
   ]
  },
  {
   "cell_type": "markdown",
   "metadata": {},
   "source": [
    "## Topics Overview"
   ]
  },
  {
   "cell_type": "markdown",
   "metadata": {},
   "source": [
    "- [Functions](./tp-functions/README.md)\n",
    "- [Purity](./tp-purity/README.md)\n",
    "- [Recursion](./tp-recursion/README.md)\n",
    "- [Immutability](./tp-immutability/README.md)\n",
    "- [Functors, Monoids, Monads](./tp-monads/README.md)\n",
    "- [Railway-Oriented Programming](./tp-railway-oriented/README.md)\n",
    "- [Functional Reactive](./tp-functional-reactive/README.md)\n",
    "- [Asynchrony](./tp-asynchrony/README.md)\n",
    "- [Functional Domain Modeling](./tp-ddd/README.md)\n",
    "- [Functional Patterns](./tp-functional-patterns/README.md)\n",
    "- [Unidirectional UI Patterns](./tp-unidirectional-uis/README.md)\n",
    "- [F# Features](./tp-fsharp-features/README.md)\n",
    "- [Type Providers](./tp-type-providers/README.md)"
   ]
  },
  {
   "cell_type": "markdown",
   "metadata": {},
   "source": [
    "## Resources"
   ]
  },
  {
   "cell_type": "markdown",
   "metadata": {},
   "source": [
    "- [F# for C# programmers](https://www.youtube.com/watch?v=KPa8Yw_Navk)\n",
    "- [Mere Functional Programming](https://dev.to/kspeakman/mere-functional-programming-in-f-do8)\n",
    "- [What the Functor](https://www.matthewgerstman.com/tech/what-the-functor/)\n",
    "- [Mary Had a Little Lambda](https://www.matthewgerstman.com/tech/mary-had-a-little-lambda/)\n",
    "- [Exceptions vs. Result Types in F#](https://danielwertheim.se/exceptions-vs-the-result-type-in-fsharp/)\n",
    "- [The Rise and Fall of Object-Oriented Programming](https://medium.com/machine-words/the-rise-and-fall-of-object-oriented-programming-d67078f970e2)\n",
    "- [Your Easy Guide to Monads, Applicatives and Functors](https://medium.com/@lettier/your-easy-guide-to-monads-applicatives-functors-862048d61610)\n",
    "- [Mostly Adequate Guide to Functional Programming](https://mostly-adequate.gitbooks.io/mostly-adequate-guide/)\n",
    "- [Curry and Function Composition](https://medium.com/javascript-scene/curry-and-function-composition-2c208d774983)\n",
    "- [Pros and Cons of Functional Programming](https://itnext.io/pros-and-cons-of-functional-programming-32cdf527e1c2)\n",
    "- [Disadvantage of Functional Programming](https://alvinalexander.com/scala/fp-book/disadvantages-of-functional-programming)\n",
    "- [What are the Disadvantages of Functional Programming?](https://www.quora.com/What-are-some-limitations-disadvantages-of-functional-programming-Where-does-it-break-down-when-you-want-to-get-things-done/answer/Tikhon-Jelvis)\n",
    "- [A Fistful of Monads](http://learnyouahaskell.com/a-fistful-of-monads)\n",
    "- Real-World Functional Programming\n",
    "- Programming F# 3.0 2nd Edition\n",
    "- F# for C# Developers\n",
    "\n",
    "Additional links:\n",
    "\n",
    "- [Orleans Event Sourcing](http://dotnet.github.io/orleans/Documentation/grains/event_sourcing/index.html)\n",
    "- [Event Sourcing is Awesome](https://medium.com/jettech/event-sourcing-is-awesome-c4fe25ad24cd)\n",
    "- [Building a Game with SignalR and F#](http://www.codesuji.com/2019/02/19/Building-Game-with-SignalR-and-F/)\n",
    "- [Build a web service with F# and .NET Core 2.0](https://devblogs.microsoft.com/dotnet/build-a-web-service-with-f-and-net-core-2-0/)"
   ]
  }
 ],
 "metadata": {
  "kernelspec": {
   "display_name": ".NET (F#)",
   "language": "F#",
   "name": ".net-fsharp"
  },
  "language_info": {
   "file_extension": ".fs",
   "mimetype": "text/x-fsharp",
   "name": "C#",
   "pygments_lexer": "fsharp",
   "version": "4.5"
  }
 },
 "nbformat": 4,
 "nbformat_minor": 2
}
