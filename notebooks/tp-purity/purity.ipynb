{
 "cells": [
  {
   "cell_type": "markdown",
   "metadata": {},
   "source": [
    "# Functional Purity"
   ]
  },
  {
   "cell_type": "markdown",
   "metadata": {},
   "source": [
    "A pure function is a function that has no side-effects. Basically, not having a side-effect means not mutating any external state. If the function mutates any external state, that it has some implicit results. Any of the implicit side-effects can be either an IO output, or multithreading, or some king of network connection, SQL connections, exceptions and many more. But what happens, if this external state prodiuces an error?\n",
    "\n",
    "![xkcd - purity](./resources/xkcd - purity.png)\n",
    "\n",
    "Let's have a look at different aspects of side-effects."
   ]
  },
  {
   "cell_type": "markdown",
   "metadata": {},
   "source": [
    "## Shared State"
   ]
  },
  {
   "cell_type": "markdown",
   "metadata": {},
   "source": [
    "Let's have a look at the following function:"
   ]
  },
  {
   "cell_type": "code",
   "execution_count": 53,
   "metadata": {},
   "outputs": [
    {
     "name": "stdout",
     "output_type": "stream",
     "text": [
      "-51.20:22:33.8728002"
     ]
    },
    {
     "data": {
      "text/html": [
       "<null>"
      ]
     },
     "execution_count": 53,
     "metadata": {},
     "output_type": "execute_result"
    }
   ],
   "source": [
    "let getTimeDifference (date: DateTime) = DateTime.UtcNow - date\n",
    "let someFutureTime = DateTime.Parse \"1-1-2020\"\n",
    "let difference0 = getTimeDifference someFutureTime\n",
    "printf \"%A\" difference0"
   ]
  },
  {
   "cell_type": "markdown",
   "metadata": {},
   "source": [
    "But what if we run it again?"
   ]
  },
  {
   "cell_type": "code",
   "execution_count": 54,
   "metadata": {},
   "outputs": [
    {
     "name": "stdout",
     "output_type": "stream",
     "text": [
      "-51.20:22:27.5987105\n"
     ]
    },
    {
     "data": {
      "text/html": [
       "<null>"
      ]
     },
     "execution_count": 54,
     "metadata": {},
     "output_type": "execute_result"
    }
   ],
   "source": [
    "let difference1 = getTimeDifference someFutureTime\n",
    "printfn \"%A\" difference1"
   ]
  },
  {
   "cell_type": "markdown",
   "metadata": {},
   "source": [
    "We can see, that each time we call this function with same parameter, the result is different. Not so very predictible result, right? This is because our function `getTimeDifference` is actually dependent on a shared state `DateTime.UtcNow`.\n",
    "\n",
    "I order for this function to be pure, we need to pass both parameters - from and to. Let's have a look at the example."
   ]
  },
  {
   "cell_type": "code",
   "execution_count": 55,
   "metadata": {},
   "outputs": [
    {
     "name": "stdout",
     "output_type": "stream",
     "text": [
      "9.00:00:00\n"
     ]
    },
    {
     "data": {
      "text/html": [
       "<null>"
      ]
     },
     "execution_count": 55,
     "metadata": {},
     "output_type": "execute_result"
    }
   ],
   "source": [
    "let getTimeDifference (fromDate: DateTime) (toDate: DateTime) = fromDate - toDate\n",
    "let fromDate = DateTime.Parse \"10-1-2020\"\n",
    "let currentDate = DateTime.Parse \"1-1-2020\"\n",
    "let difference1 = getTimeDifference fromDate currentDate\n",
    "printfn \"%A\" difference1"
   ]
  },
  {
   "cell_type": "markdown",
   "metadata": {},
   "source": [
    "Now let's try and call this function several more times."
   ]
  },
  {
   "cell_type": "code",
   "execution_count": 56,
   "metadata": {
    "scrolled": true
   },
   "outputs": [
    {
     "name": "stdout",
     "output_type": "stream",
     "text": [
      "9.00:00:00\n"
     ]
    },
    {
     "data": {
      "text/html": [
       "<null>"
      ]
     },
     "execution_count": 56,
     "metadata": {},
     "output_type": "execute_result"
    }
   ],
   "source": [
    "let difference2 = getTimeDifference fromDate currentDate\n",
    "printfn \"%A\" difference2"
   ]
  },
  {
   "cell_type": "code",
   "execution_count": 57,
   "metadata": {},
   "outputs": [
    {
     "name": "stdout",
     "output_type": "stream",
     "text": [
      "9.00:00:00\n"
     ]
    },
    {
     "data": {
      "text/html": [
       "<null>"
      ]
     },
     "execution_count": 57,
     "metadata": {},
     "output_type": "execute_result"
    }
   ],
   "source": [
    "let difference3 = getTimeDifference fromDate currentDate\n",
    "printfn \"%A\" difference3"
   ]
  },
  {
   "cell_type": "markdown",
   "metadata": {},
   "source": [
    "So here wee are, the same result every time. Now this function is testable, predictable and can be used as a simple value."
   ]
  },
  {
   "cell_type": "markdown",
   "metadata": {},
   "source": [
    "## State Mutation"
   ]
  },
  {
   "cell_type": "code",
   "execution_count": null,
   "metadata": {},
   "outputs": [],
   "source": []
  },
  {
   "cell_type": "markdown",
   "metadata": {},
   "source": [
    "## Referential Transparency"
   ]
  },
  {
   "cell_type": "code",
   "execution_count": null,
   "metadata": {},
   "outputs": [],
   "source": []
  },
  {
   "cell_type": "markdown",
   "metadata": {},
   "source": [
    "## Side-Effects"
   ]
  },
  {
   "cell_type": "code",
   "execution_count": null,
   "metadata": {},
   "outputs": [],
   "source": []
  },
  {
   "cell_type": "markdown",
   "metadata": {},
   "source": [
    "## Resources"
   ]
  },
  {
   "cell_type": "markdown",
   "metadata": {},
   "source": [
    "Explicit side-effects, function purity, referential transparency principle. Classes, constructors, instance members, static members, mutability, operators, generics, properties, overloading, access modifiers, inheritance, etc.\n",
    "\n",
    "Parts, Nested modules, Namespaces\n",
    "\n",
    "1. https://fsharpforfunandprofit.com/series/thinking-functionally.html\n",
    "2. https://fsharpforfunandprofit.com/fppatterns/\n",
    "3. https://fsharpforfunandprofit.com/posts/recipe-part3/"
   ]
  },
  {
   "cell_type": "markdown",
   "metadata": {},
   "source": []
  }
 ],
 "metadata": {
  "kernelspec": {
   "display_name": ".NET (F#)",
   "language": "F#",
   "name": ".net-fsharp"
  },
  "language_info": {
   "file_extension": ".fs",
   "mimetype": "text/x-fsharp",
   "name": "C#",
   "pygments_lexer": "fsharp",
   "version": "4.5"
  }
 },
 "nbformat": 4,
 "nbformat_minor": 2
}
