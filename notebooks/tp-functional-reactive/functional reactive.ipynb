{
 "cells": [
  {
   "cell_type": "markdown",
   "metadata": {},
   "source": [
    "# Functional Reactive"
   ]
  },
  {
   "cell_type": "markdown",
   "metadata": {},
   "source": [
    "So, Alice has a phone. And Bob has a phone. Bob can call Alice at any given time just by dialing the number. Now imagine if Alice had to have the phone picked up in order for Bob to reach her. She can wait besides the phone for hours, days before Bob calls. Not very convinient, right? It's easier to have the phone ringing when someone is calling, so that she can pick up the phone. Since someone calling Alice does not actually depend on Alice herself, it's only logical that she has more important stuff to do than sit and wait for a call. Remember the \"Hollywood Principle\"? \"Don't call us, we will call you!\" - they say. And they are right. Our example is exactly the same.\n",
    "\n",
    "In other words, Bob calling Alice is like establishing a channel between point A and point B (haha, what a pun - A for Alice and B for Bob). Messages going between those two points are descrete signals in form of concrete values. So a channel can be represented as a queue of descrete values of int, for example.\n",
    "\n",
    "If the first case, Alice waiting for a call is the same as reading an queue for incoming values. If the values are not there, then we have to wait for somme time and try again. You can see where the problem is.\n",
    "\n",
    "\"Let's see the code already\" - you would say. Oh, okay then."
   ]
  },
  {
   "cell_type": "markdown",
   "metadata": {},
   "source": [
    "## Proactive Network"
   ]
  },
  {
   "cell_type": "markdown",
   "metadata": {},
   "source": [
    "First, we have to define what a channel is."
   ]
  },
  {
   "cell_type": "code",
   "execution_count": 1,
   "metadata": {},
   "outputs": [],
   "source": [
    "using System;\n",
    "\n",
    "public interface IChannel\n",
    "{\n",
    "    IChannel Send(string message);\n",
    "\n",
    "    IChannel Listen(Action<string> handle);\n",
    "\n",
    "    void Close();\n",
    "}"
   ]
  },
  {
   "cell_type": "markdown",
   "metadata": {},
   "source": [
    "Now in order to make calls, let's assume that we have to be on the same network. Here's what a network could look like in code."
   ]
  },
  {
   "cell_type": "code",
   "execution_count": 2,
   "metadata": {},
   "outputs": [],
   "source": [
    "public interface IGsmNetwork\n",
    "{\n",
    "    IChannel EstablishConnection(string from, string to);\n",
    "}\n",
    "\n",
    "public class GsmNetwork<TChannel> : IGsmNetwork where TChannel : IChannel, new()\n",
    "{\n",
    "    private readonly Dictionary<(string, string), IChannel> _channels = new Dictionary<(string, string), IChannel>();\n",
    "\n",
    "    public IChannel EstablishConnection(string from, string to)\n",
    "    {\n",
    "        IChannel channel = _channels.ContainsKey((to, from))\n",
    "            ? _channels[(to, from)]\n",
    "            : _channels[(from, to)] = new TChannel();\n",
    "        return _channels.ContainsKey((from, to))\n",
    "            ? _channels[(from, to)]\n",
    "            : channel;\n",
    "    }\n",
    "}"
   ]
  },
  {
   "cell_type": "markdown",
   "metadata": {},
   "source": [
    "Network just establishes a connection between to recipients. Alice calling Bob should be the same channel as Bob calling Alice. Ther can be no more channels between same two people at the same time.\n",
    "\n",
    "But to make a acall we need a phone. And phone it is."
   ]
  },
  {
   "cell_type": "code",
   "execution_count": 3,
   "metadata": {},
   "outputs": [],
   "source": [
    "public class Phone\n",
    "{\n",
    "    private IGsmNetwork _gsmOperator;\n",
    "\n",
    "    public Phone(string owner) => Owner = owner;\n",
    "\n",
    "    public string Owner { get; }\n",
    "\n",
    "    public IGsmNetwork UseGsmNetwork(IGsmNetwork gsmOperator) => _gsmOperator = gsmOperator;\n",
    "\n",
    "    public IChannel Call(string contact) => _gsmOperator.EstablishConnection(Owner, contact);\n",
    "\n",
    "    public IChannel Receive(string contact) => _gsmOperator.EstablishConnection(Owner, contact);\n",
    "}"
   ]
  },
  {
   "cell_type": "markdown",
   "metadata": {},
   "source": [
    "A phone can use one network at a time. It can also call someone or receive a call, or pick up the phone if you prefer.\n",
    "\n",
    "And we are ready to see the first case in action. So a channel implementation would look like:"
   ]
  },
  {
   "cell_type": "code",
   "execution_count": 4,
   "metadata": {},
   "outputs": [],
   "source": [
    "using System;\n",
    "using System.Collections.Concurrent;\n",
    "using System.Threading;\n",
    "using System.Threading.Tasks;\n",
    "\n",
    "public class ProactiveChannel : IChannel\n",
    "{\n",
    "    private readonly CancellationTokenSource _cts = new CancellationTokenSource();\n",
    "    private readonly ConcurrentQueue<string> _messages = new ConcurrentQueue<string>();\n",
    "    private Task _processingHandle;\n",
    "\n",
    "    public ProactiveChannel()\n",
    "    {\n",
    "        Console.WriteLine();\n",
    "        Console.WriteLine(\"Starting Proactive GSM Line...\");\n",
    "        Console.WriteLine(\"-------------------------------------\");\n",
    "    }\n",
    "\n",
    "    public void Close()\n",
    "    {\n",
    "        _cts.Cancel();\n",
    "        _processingHandle.Wait();\n",
    "    }\n",
    "\n",
    "    public IChannel Listen(Action<string> handle)\n",
    "    {\n",
    "        _processingHandle = Task.Run(() => ProcessMessages(handle));\n",
    "        return this;\n",
    "    }\n",
    "\n",
    "    public IChannel Send(string message)\n",
    "    {\n",
    "        _messages.Enqueue(message);\n",
    "        return this;\n",
    "    }\n",
    "\n",
    "    private void ProcessMessages(Action<string> handle)\n",
    "    {\n",
    "        while (!_cts.IsCancellationRequested || !_messages.IsEmpty)\n",
    "        {\n",
    "            string text = _messages.TryDequeue(out string message)\n",
    "                ? message\n",
    "                : \"...\";\n",
    "            handle(text);\n",
    "            Task.Delay(1000).Wait();\n",
    "        }\n",
    "    }\n",
    "}"
   ]
  },
  {
   "cell_type": "markdown",
   "metadata": {},
   "source": [
    "There are all the pieces to run the code and see how it goes."
   ]
  },
  {
   "cell_type": "code",
   "execution_count": 5,
   "metadata": {
    "scrolled": true
   },
   "outputs": [
    {
     "name": "stdout",
     "output_type": "stream",
     "text": [
      "\n",
      "Starting Proactive GSM Line...\n",
      "-------------------------------------\n",
      "...\n",
      "...\n",
      "...\n",
      "...\n",
      "...\n",
      "Hi, Alice!\n",
      "It's good that I've been able to call you.\n",
      "Well, bye now!\n"
     ]
    }
   ],
   "source": [
    "private static void ExecuteSequence(string Alice, string Bob, Phone alicesPhone, Phone bobsPhone)\n",
    "{\n",
    "    alicesPhone\n",
    "        .Receive(Bob)\n",
    "        .Listen(Console.WriteLine);\n",
    "\n",
    "    Task.Delay(5000).Wait();\n",
    "\n",
    "    bobsPhone\n",
    "        .Call(Alice)\n",
    "        .Send(\"Hi, Alice!\")\n",
    "        .Send(\"It's good that I've been able to call you.\")\n",
    "        .Send(\"Well, bye now!\")\n",
    "        .Close();\n",
    "}\n",
    "\n",
    "const string Alice = \"Alice\";\n",
    "const string Bob = \"Bob\";\n",
    "var alicesPhone = new Phone(Alice);\n",
    "var bobsPhone = new Phone(Bob);\n",
    "\n",
    "var proactiveGsm = new GsmNetwork<ProactiveChannel>();\n",
    "alicesPhone.UseGsmNetwork(proactiveGsm);\n",
    "bobsPhone.UseGsmNetwork(proactiveGsm);\n",
    "ExecuteSequence(Alice, Bob, alicesPhone, bobsPhone);"
   ]
  },
  {
   "cell_type": "markdown",
   "metadata": {},
   "source": [
    "As you can see, s is way to inefficient to wait an undefined amount of time."
   ]
  },
  {
   "cell_type": "markdown",
   "metadata": {},
   "source": [
    "## Reactive Network"
   ]
  },
  {
   "cell_type": "markdown",
   "metadata": {},
   "source": [
    "Refactoring the previous code into a version where the code gets called is a reactive way of doing things. Another implementation of a `IChannel` type will do just fine."
   ]
  },
  {
   "cell_type": "code",
   "execution_count": 6,
   "metadata": {
    "scrolled": false
   },
   "outputs": [
    {
     "data": {
      "text/html": [
       "Installing package System.Reactive, version 4.2.0..........done!"
      ]
     },
     "metadata": {},
     "output_type": "display_data"
    },
    {
     "data": {
      "text/html": [
       "Successfully added reference to package System.Reactive, version 4.2.0"
      ]
     },
     "metadata": {},
     "output_type": "display_data"
    }
   ],
   "source": [
    "#r \"nuget:System.Reactive, 4.2.0\"\n",
    "\n",
    "using System;\n",
    "using System.Reactive.Subjects;\n",
    "\n",
    "public class ReactiveChannel : IChannel\n",
    "{\n",
    "    private readonly ISubject<string> _subject = new Subject<string>();\n",
    "    private IDisposable _disposable;\n",
    "\n",
    "    public ReactiveChannel()\n",
    "    {\n",
    "        Console.WriteLine();\n",
    "        Console.WriteLine(\"Starting Reactive GSM Line...\");\n",
    "        Console.WriteLine(\"-------------------------------------\");\n",
    "    }\n",
    "\n",
    "    public void Close()\n",
    "    {\n",
    "        _disposable.Dispose();\n",
    "        _subject.OnCompleted();\n",
    "    }\n",
    "\n",
    "    public IChannel Listen(Action<string> handle)\n",
    "    {\n",
    "        _disposable = _subject.Subscribe(handle);\n",
    "        return this;\n",
    "    }\n",
    "\n",
    "    public IChannel Send(string message)\n",
    "    {\n",
    "        _subject.OnNext(message);\n",
    "        return this;\n",
    "    }\n",
    "}"
   ]
  },
  {
   "cell_type": "markdown",
   "metadata": {},
   "source": [
    "Now to execute some code and see how it works:"
   ]
  },
  {
   "cell_type": "code",
   "execution_count": 7,
   "metadata": {},
   "outputs": [
    {
     "name": "stdout",
     "output_type": "stream",
     "text": [
      "\n",
      "Starting Reactive GSM Line...\n",
      "-------------------------------------\n",
      "Hi, Alice!\n",
      "It's good that I've been able to call you.\n",
      "Well, bye now!\n"
     ]
    }
   ],
   "source": [
    "var reactiveGsm = new GsmNetwork<ReactiveChannel>();\n",
    "alicesPhone.UseGsmNetwork(reactiveGsm);\n",
    "bobsPhone.UseGsmNetwork(reactiveGsm);\n",
    "ExecuteSequence(Alice, Bob, alicesPhone, bobsPhone);"
   ]
  },
  {
   "cell_type": "markdown",
   "metadata": {},
   "source": [
    "Yay! No waiting on the line. Whenever Bob called Alice, she just received messages! Reactive can be that new kid on the block that turn out to be cool!"
   ]
  },
  {
   "cell_type": "markdown",
   "metadata": {},
   "source": [
    "## Resources"
   ]
  },
  {
   "cell_type": "markdown",
   "metadata": {},
   "source": [
    "- [Reactivity in F#](https://medium.com/@dagbrattli/reactivity-in-f-4540377d02fa)\n",
    "- [Expert to Expert: Brian Beckman and Erik Meijer - Inside the .NET Reactive Framework (Rx)](https://channel9.msdn.com/Shows/Going+Deep/Expert-to-Expert-Brian-Beckman-and-Erik-Meijer-Inside-the-NET-Reactive-Framework-Rx)\n",
    "- [Duality and the End of Reactive](https://channel9.msdn.com/Events/Lang-NEXT/Lang-NEXT-2014/Keynote-Duality)\n",
    "- [Demystifying Functional Reactive Programming](https://itnext.io/demystifying-functional-reactive-programming-67767dbe520b)"
   ]
  },
  {
   "cell_type": "code",
   "execution_count": null,
   "metadata": {},
   "outputs": [],
   "source": []
  }
 ],
 "metadata": {
  "kernelspec": {
   "display_name": ".NET (C#)",
   "language": "C#",
   "name": ".net-csharp"
  },
  "language_info": {
   "file_extension": ".cs",
   "mimetype": "text/x-csharp",
   "name": "C#",
   "pygments_lexer": "csharp",
   "version": "8.0"
  }
 },
 "nbformat": 4,
 "nbformat_minor": 2
}
